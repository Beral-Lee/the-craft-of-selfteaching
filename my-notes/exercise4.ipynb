{
 "cells": [
  {
   "cell_type": "code",
   "execution_count": 2,
   "metadata": {},
   "outputs": [
    {
     "name": "stdout",
     "output_type": "stream",
     "text": [
      "hi,hanmeimei!\n",
      "hi,lilei!\n"
     ]
    }
   ],
   "source": [
    "def say_hi(*args):        \n",
    "    for name in args:\n",
    "        print(f'hi,{name}!')\n",
    "say_hi('hanmeimei','lilei')"
   ]
  },
  {
   "cell_type": "code",
   "execution_count": 4,
   "metadata": {},
   "outputs": [
    {
     "name": "stdout",
     "output_type": "stream",
     "text": [
      "hello,lei!\n",
      "hello,mei!\n",
      "hello,yan!\n",
      "hello,ming!\n"
     ]
    }
   ],
   "source": [
    "def say_hi(*names):\n",
    "    for i in names:\n",
    "        print(f'hello,{i}!')\n",
    "        \n",
    "names = ['lei','mei','yan','ming']\n",
    "\n",
    "say_hi(*names)"
   ]
  },
  {
   "cell_type": "code",
   "execution_count": 7,
   "metadata": {},
   "outputs": [
    {
     "name": "stdout",
     "output_type": "stream",
     "text": [
      "hi,10!\n",
      "hi,9!\n",
      "hi,8!\n",
      "hi,7!\n",
      "hi,6!\n",
      "hi,5!\n",
      "hi,4!\n",
      "hi,3!\n",
      "hi,2!\n",
      "hi,1!\n"
     ]
    }
   ],
   "source": [
    "def say_hi(*names):\n",
    "    for name in names:\n",
    "        print(f'hi,{name}!')\n",
    "        \n",
    "#names = range(10,0,-1)\n",
    "\n",
    "say_hi(*range(10,0,-1))"
   ]
  },
  {
   "cell_type": "code",
   "execution_count": 8,
   "metadata": {},
   "outputs": [
    {
     "name": "stdout",
     "output_type": "stream",
     "text": [
      "Hello,bobo!\n",
      "Hello,kity!\n",
      "Hello,wude!\n"
     ]
    }
   ],
   "source": [
    "def say_hi(greeting,*names):\n",
    "    for name in names:\n",
    "        print(f'{greeting},{name}!')\n",
    "say_hi('Hello','bobo','kity','wude')"
   ]
  },
  {
   "cell_type": "code",
   "execution_count": 11,
   "metadata": {},
   "outputs": [
    {
     "name": "stdout",
     "output_type": "stream",
     "text": [
      "hello,bobo!\n",
      "hello,keyti!\n",
      "hello,woder!\n",
      "hello,Bobo!\n",
      "hello,Keyti!\n",
      "hello,Woder!\n"
     ]
    }
   ],
   "source": [
    "def say_hi(greeting,*names,capitalized=False):\n",
    "    for name in names:\n",
    "        if capitalized:\n",
    "            name = name.capitalize()\n",
    "        print(f'{greeting},{name}!')\n",
    "        \n",
    "stadin = say_hi('hello','bobo','keyti','woder')\n",
    "capitalize = say_hi('hello','bobo','keyti','woder',capitalized=True) "
   ]
  },
  {
   "cell_type": "code",
   "execution_count": 8,
   "metadata": {},
   "outputs": [
    {
     "data": {
      "text/plain": [
       "6"
      ]
     },
     "execution_count": 8,
     "metadata": {},
     "output_type": "execute_result"
    }
   ],
   "source": [
    "def sum_fun(a,b,c):\n",
    "    return(a+b+c)\n",
    "\n",
    "sum_fun(1,2,3)\n",
    "    "
   ]
  },
  {
   "cell_type": "code",
   "execution_count": 9,
   "metadata": {},
   "outputs": [
    {
     "data": {
      "text/plain": [
       "6"
      ]
     },
     "execution_count": 9,
     "metadata": {},
     "output_type": "execute_result"
    }
   ],
   "source": [
    "sum_fun = lambda a,b,c:a+b+c\n",
    "sum_fun(1,2,3)"
   ]
  },
  {
   "cell_type": "code",
   "execution_count": 10,
   "metadata": {},
   "outputs": [
    {
     "data": {
      "text/plain": [
       "6"
      ]
     },
     "execution_count": 10,
     "metadata": {},
     "output_type": "execute_result"
    }
   ],
   "source": [
    "def increas(a,b):\n",
    "    return a*b\n",
    "increas(2,3)"
   ]
  },
  {
   "cell_type": "code",
   "execution_count": 21,
   "metadata": {},
   "outputs": [
    {
     "name": "stdout",
     "output_type": "stream",
     "text": [
      "9 9\n"
     ]
    }
   ],
   "source": [
    "def increas(a,b):\n",
    "    return lambda x,y:(x+a)*(y+b)\n",
    "    \n",
    "increasment = increas(1,1)\n",
    "#此时increasment函数实际为return (x+1)*(y+1)\n",
    "def b_increase(x,y):\n",
    "    return  (x+1)*(y+1)\n",
    "a = increasment(2,2)\n",
    "b = b_increase(2,2)\n",
    "print(a,b)"
   ]
  },
  {
   "cell_type": "code",
   "execution_count": 4,
   "metadata": {},
   "outputs": [
    {
     "name": "stdout",
     "output_type": "stream",
     "text": [
      "120\n"
     ]
    }
   ],
   "source": [
    "def f(n):\n",
    "    if n == 1:\n",
    "        return 1\n",
    "    else:\n",
    "        return n * f(n-1)\n",
    "    \n",
    "print(f(5))"
   ]
  },
  {
   "cell_type": "code",
   "execution_count": 34,
   "metadata": {},
   "outputs": [
    {
     "name": "stdout",
     "output_type": "stream",
     "text": [
      "False 2\n"
     ]
    }
   ],
   "source": [
    "import random\n",
    "dead,live = not random.randrange(0,3),random.randrange(0,3)\n",
    "print(dead,live)"
   ]
  },
  {
   "cell_type": "code",
   "execution_count": null,
   "metadata": {},
   "outputs": [],
   "source": []
  }
 ],
 "metadata": {
  "kernelspec": {
   "display_name": "Python 3",
   "language": "python",
   "name": "python3"
  },
  "language_info": {
   "codemirror_mode": {
    "name": "ipython",
    "version": 3
   },
   "file_extension": ".py",
   "mimetype": "text/x-python",
   "name": "python",
   "nbconvert_exporter": "python",
   "pygments_lexer": "ipython3",
   "version": "3.7.3"
  }
 },
 "nbformat": 4,
 "nbformat_minor": 2
}
