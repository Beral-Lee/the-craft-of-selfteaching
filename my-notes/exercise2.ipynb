{
 "cells": [
  {
   "cell_type": "code",
   "execution_count": 1,
   "metadata": {},
   "outputs": [
    {
     "data": {
      "text/plain": [
       "[0, 1, 4]"
      ]
     },
     "execution_count": 1,
     "metadata": {},
     "output_type": "execute_result"
    }
   ],
   "source": [
    "[i ** 2 for i in range(3)]"
   ]
  },
  {
   "cell_type": "code",
   "execution_count": 30,
   "metadata": {},
   "outputs": [
    {
     "name": "stdout",
     "output_type": "stream",
     "text": [
      "a_list :[90, 12, 95, 14, 76, 71, 71, 24, 59, 76] \n",
      "... and have 6 even numbers in a_list:[90, 12, 14, 76, 24, 76]\n",
      "['fd', 'wag', 'fd']\n"
     ]
    }
   ],
   "source": [
    "import random\n",
    "\n",
    "a_list = [random.randrange(1,101) for i in range(10)]\n",
    "b_list = [i for i in a_list if i % 2 == 0]\n",
    "print(f'a_list :{a_list} \\n... and have {len(b_list)} even numbers in a_list:{b_list}')\n",
    "alist = ['dafd','fd','wag','xixi']\n",
    "blist = [random.choice(alist) for i in range(3)]\n",
    "print(blist)"
   ]
  },
  {
   "cell_type": "code",
   "execution_count": 29,
   "metadata": {},
   "outputs": [
    {
     "data": {
      "text/plain": [
       "'dafd'"
      ]
     },
     "execution_count": 29,
     "metadata": {},
     "output_type": "execute_result"
    }
   ],
   "source": [
    "a = ['dafd','fd','wag','xixi']\n",
    "random.choice(a)"
   ]
  },
  {
   "cell_type": "code",
   "execution_count": 32,
   "metadata": {},
   "outputs": [
    {
     "name": "stdout",
     "output_type": "stream",
     "text": [
      "000.mp3\n",
      "001.mp3\n",
      "002.mp3\n",
      "003.mp3\n",
      "004.mp3\n",
      "005.mp3\n",
      "006.mp3\n",
      "007.mp3\n",
      "008.mp3\n",
      "009.mp3\n"
     ]
    }
   ],
   "source": [
    "for i in range(10):\n",
    "    print(str(i).zfill(3)+'.mp3')"
   ]
  },
  {
   "cell_type": "code",
   "execution_count": 38,
   "metadata": {},
   "outputs": [
    {
     "name": "stdout",
     "output_type": "stream",
     "text": [
      "[1, 2, 3, 1, 2, 3, 1, 2, 3]\n"
     ]
    }
   ],
   "source": [
    "a_list = [1,2,3]\n",
    "b_list = [4,5,6]\n",
    "a_list < b_list\n",
    "\n",
    "a_list = [1,2,4]\n",
    "b_list = [1,2,3]\n",
    "a_list > b_list\n",
    "\n",
    "c_list = b_list * 3\n",
    "print(c_list)"
   ]
  },
  {
   "cell_type": "code",
   "execution_count": 26,
   "metadata": {},
   "outputs": [
    {
     "name": "stdout",
     "output_type": "stream",
     "text": [
      "[80, 68, 73]\n",
      "['G', 'G', 'J']\n",
      "[80, 68, 73, 'G', 'G', 'J', 80, 68, 73, 80, 68, 73]\n",
      "['G', 'G', 'J', 80, 68, 73, 80, 68, 73]\n",
      "[80, 68, 73, 80, 68, 73, 80, 68, 73]\n",
      "[80, 68, 'a', 80, 'b', 73, 80, 68, 73]\n"
     ]
    }
   ],
   "source": [
    "import random\n",
    "\n",
    "a_list = [random.randrange(65,91) for i in  range(3)]\n",
    "print(a_list)\n",
    "b_list = [chr(random.randrange(65,91)) for i in range(3)]\n",
    "print(b_list)\n",
    "c_list = a_list + b_list + a_list * 2 \n",
    "print(c_list)\n",
    "print(c_list[3:])\n",
    "del c_list[3:6]\n",
    "print(c_list)\n",
    "c_list[2:5:2] = ['a','b']\n",
    "print(c_list)"
   ]
  },
  {
   "cell_type": "code",
   "execution_count": 25,
   "metadata": {},
   "outputs": [
    {
     "name": "stdout",
     "output_type": "stream",
     "text": [
      "a_list comprehends 10 random numbers:\n",
      " [7, 87, 14, 50, 41, 36, 43, 29, 37, 73]\n",
      "[7, 14, 29, 36, 37, 41, 43, 50, 73, 87]\n",
      "['lv', 'X[', 'lh', 'aR', 'Bj', 'Ab', 'WS', 'U`', 'rg', 'jy']\n",
      "['Ab', 'Bj', 'U`', 'WS', 'X[', 'aR', 'jy', 'lh', 'lv', 'rg']\n",
      "['Ab', 'aR', 'Bj', 'jy', 'lh', 'lv', 'rg', 'U`', 'WS', 'X[']\n"
     ]
    }
   ],
   "source": [
    "from random import randrange,choice\n",
    "\n",
    "\n",
    "a_list = [randrange(100) for i in range(10)]\n",
    "print(f'a_list comprehends {len(a_list)} random numbers:\\n' , a_list)\n",
    "a_list.sort()\n",
    "print(a_list)\n",
    "\n",
    "a_list.sort(reverse=True)\n",
    "\n",
    "b_list = [chr(randrange(65,123)) + chr(randrange(65,123)) for i in range(10)]\n",
    "print(b_list)\n",
    "\n",
    "b_list.sort()\n",
    "print(b_list)\n",
    "b_list.sort(key=str.lower)\n",
    "print(b_list)"
   ]
  },
  {
   "cell_type": "code",
   "execution_count": 64,
   "metadata": {},
   "outputs": [
    {
     "name": "stdout",
     "output_type": "stream",
     "text": [
      "['t', 'v', 'i', 'A', 'T', 'T', 't', 'v', 'i', 't', 'v', 'i']\n",
      "['t', 'v', 'i', 'A', 'T', 'T', 't', 'v', 'i', 't', 'v', 'i', 'wahaha']\n",
      "[]\n",
      "['t', 'v', 'i', 'A', 'T', 'T', 't', 'v', 'i', 't', 'v', 'i', 'wahaha']\n",
      "['t', 'v', 'i', 'A', 'T', 'T', 't', 'v', 'i', 't', 'v', 'i', 'wahaha']\n",
      "['t', 'v', 'i', 'A', 'T', 'T', 't', 'v', 'i', 't', 'v', 'i', 'wahaha']\n",
      "['t', 'v', 'i', 'A', 'T', 'T', 't', 'v', 'i', 't', 'v', 'i', 'wahaha']\n",
      "['t', 'different', 'v', 'i', 'yaoyao', 'A', 'T', 'T', 't', 'v', 'i', 't', 'v', 'i', 'wahaha']\n",
      "['A', 'T', 'T']\n",
      "['T', 'T', 'A']\n",
      "['T', 'T', 'A']\n",
      "['wahaha', 'i', 'v', 't', 'i', 'v', 't', 'T', 'T', 'A', 'yaoyao', 'i', 'v', 'different', 't']\n",
      "['wahaha', 'i', 'yaoyao', 'i', 'v', 'different', 't']\n",
      "['wahaha', 'i', 'i', 'v', 'different', 't']\n",
      "['wahaha', 'i', 'i', 'v', 't']\n",
      "['i', 'i', 'v', 't']\n",
      "['i', 'i', 'nihao', 'v', 't']\n",
      "['i', 'i', 'v', 't']\n"
     ]
    }
   ],
   "source": [
    "import random\n",
    "\n",
    "a_list = [chr(random.randrange(97,123)) for i in range(3)]\n",
    "b_list = [chr(random.randrange(65,91)) for i in range(3)]\n",
    "c_list = a_list + b_list + a_list * 2\n",
    "print(c_list)          \n",
    "c_list.append('wahaha')\n",
    "print(c_list)\n",
    "a_list.clear()\n",
    "print(a_list)\n",
    "d_list = c_list.copy()\n",
    "print(d_list)\n",
    "e_list = c_list\n",
    "print(e_list)\n",
    "\n",
    "a_list.extend(c_list)\n",
    "c_list.insert(3,'yaoyao')\n",
    "c_list.insert(1,'different')\n",
    "\n",
    "print(a_list)\n",
    "print(d_list)\n",
    "print(e_list)\n",
    "print(b_list)\n",
    "b_list.reverse()\n",
    "print(b_list)\n",
    "b_list.sort(reverse=True)\n",
    "print(b_list)\n",
    "c_list.reverse()\n",
    "print(c_list)\n",
    "\n",
    "\n",
    "del c_list[2:10]\n",
    "print(c_list)\n",
    "a = c_list.pop(2)\n",
    "print(c_list)\n",
    "c_list.remove('different')\n",
    "print(c_list)\n",
    "c_list.remove('wahaha')\n",
    "print(c_list)\n",
    "c_list.insert(2,'nihao')\n",
    "print(c_list)\n",
    "del c_list[2]\n",
    "print(c_list)"
   ]
  },
  {
   "cell_type": "code",
   "execution_count": 4,
   "metadata": {},
   "outputs": [
    {
     "name": "stdout",
     "output_type": "stream",
     "text": [
      "(2, 3, 2)\n"
     ]
    }
   ],
   "source": [
    "a_tuple = (2,3)\n",
    "a_tuple += 2,\n",
    "print(a_tuple)"
   ]
  },
  {
   "cell_type": "code",
   "execution_count": 7,
   "metadata": {},
   "outputs": [
    {
     "name": "stdout",
     "output_type": "stream",
     "text": [
      "[2, 3, 3]\n"
     ]
    }
   ],
   "source": [
    "a_list = [2,3]\n",
    "a_list += [3]\n",
    "print(a_list)"
   ]
  },
  {
   "cell_type": "code",
   "execution_count": 11,
   "metadata": {},
   "outputs": [
    {
     "name": "stdout",
     "output_type": "stream",
     "text": [
      "48 8024 9088\n"
     ]
    }
   ],
   "source": [
    "n = 1000\n",
    "a = range(n)\n",
    "a_s = a.__sizeof__()\n",
    "b = tuple(a)\n",
    "b_s = b.__sizeof__()\n",
    "c = list(a)\n",
    "c_s = c.__sizeof__()\n",
    "print(a_s,b_s,c_s)\n"
   ]
  },
  {
   "cell_type": "code",
   "execution_count": 5,
   "metadata": {},
   "outputs": [
    {
     "name": "stdout",
     "output_type": "stream",
     "text": [
      "[9, 8, 7, 6, 1, 2, 3, 4, 5, 6]\n",
      "[1, 2, 3, 4, 5, 6]\n",
      "None\n"
     ]
    }
   ],
   "source": [
    "blist = [1,2,3,4,5,6]\n",
    "alist = [9,8,7,6]\n",
    "\n",
    "clist = alist.extend(blist)\n",
    "print(alist)\n",
    "print(blist)\n",
    "print(clist)"
   ]
  },
  {
   "cell_type": "code",
   "execution_count": 26,
   "metadata": {},
   "outputs": [
    {
     "name": "stdout",
     "output_type": "stream",
     "text": [
      "{1, 4, 23} <class 'set'>\n",
      "{4, 5, 6, 7, 8} <class 'set'>\n",
      "{4}\n",
      "{1, 2, 3, 4, 5, 6, 23}\n",
      "{8, 7}\n"
     ]
    }
   ],
   "source": [
    "aset = set()\n",
    "blist = [1,2,3,4,5,6]\n",
    "aset.add(1)\n",
    "aset.add(23)\n",
    "aset.add(4)\n",
    "bset = {4,5,6,7,8}\n",
    "print(aset,type(aset))\n",
    "print(bset,type(bset))\n",
    "inter = aset.intersection(bset)\n",
    "union = aset.union(blist)\n",
    "print(inter)\n",
    "print(union)\n",
    "different = bset.difference(union)\n",
    "print(different)"
   ]
  },
  {
   "cell_type": "code",
   "execution_count": null,
   "metadata": {},
   "outputs": [],
   "source": []
  }
 ],
 "metadata": {
  "kernelspec": {
   "display_name": "Python 3",
   "language": "python",
   "name": "python3"
  },
  "language_info": {
   "codemirror_mode": {
    "name": "ipython",
    "version": 3
   },
   "file_extension": ".py",
   "mimetype": "text/x-python",
   "name": "python",
   "nbconvert_exporter": "python",
   "pygments_lexer": "ipython3",
   "version": "3.7.3"
  }
 },
 "nbformat": 4,
 "nbformat_minor": 2
}
