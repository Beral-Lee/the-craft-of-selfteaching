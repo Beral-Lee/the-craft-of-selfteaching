{
 "cells": [
  {
   "cell_type": "markdown",
   "metadata": {},
   "source": [
    "### 可用来操作的内建函数"
   ]
  },
  {
   "cell_type": "code",
   "execution_count": 16,
   "metadata": {},
   "outputs": [
    {
     "name": "stdout",
     "output_type": "stream",
     "text": [
      "{'ann': 2132, 'fib': 1541, 'polo': 2304}\n",
      "{'ann': 2132, 'fib': 1541, 'polo': 2304}\n",
      "{}\n",
      "{'hua': 9616, 'wal': 3530, 'ann': 2132, 'fib': 1541, 'polo': 2304}\n"
     ]
    },
    {
     "data": {
      "text/plain": [
       "True"
      ]
     },
     "execution_count": 16,
     "metadata": {},
     "output_type": "execute_result"
    },
    {
     "data": {
      "text/plain": [
       "True"
      ]
     },
     "execution_count": 16,
     "metadata": {},
     "output_type": "execute_result"
    },
    {
     "data": {
      "text/plain": [
       "True"
      ]
     },
     "execution_count": 16,
     "metadata": {},
     "output_type": "execute_result"
    },
    {
     "data": {
      "text/plain": [
       "['hua', 'wal', 'ann', 'fib', 'polo']"
      ]
     },
     "execution_count": 16,
     "metadata": {},
     "output_type": "execute_result"
    },
    {
     "data": {
      "text/plain": [
       "5"
      ]
     },
     "execution_count": 16,
     "metadata": {},
     "output_type": "execute_result"
    },
    {
     "data": {
      "text/plain": [
       "'ann'"
      ]
     },
     "execution_count": 16,
     "metadata": {},
     "output_type": "execute_result"
    },
    {
     "data": {
      "text/plain": [
       "['ann', 'fib', 'hua', 'polo', 'wal']"
      ]
     },
     "execution_count": 16,
     "metadata": {},
     "output_type": "execute_result"
    }
   ],
   "source": [
    "from IPython.core.interactiveshell import InteractiveShell\n",
    "InteractiveShell.ast_node_interactivity = \"all\"\n",
    "\n",
    "aDict = {'ann':2132,'fib':1541,'polo':2304}\n",
    "bDict = {'hua':9616,'wal':3530}\n",
    "\n",
    "\n",
    "'ann' in bDict\n",
    "'ann' in bDict.keys()\n",
    "9616 in bDict.values()\n",
    "\n",
    "\n",
    "list(bDict)\n",
    "len(bDict)\n",
    "min(bDict)\n",
    "sorted(bDict)\n"
   ]
  },
  {
   "cell_type": "markdown",
   "metadata": {},
   "source": [
    "### 常用 Methods"
   ]
  },
  {
   "cell_type": "code",
   "execution_count": 64,
   "metadata": {},
   "outputs": [
    {
     "name": "stdout",
     "output_type": "stream",
     "text": [
      "{'ann': 2132, 'fib': 1541, 'polo': 2304}\n",
      "{'ann': 2132, 'fib': 1541, 'polo': 2304}\n",
      "{}\n",
      "{'hua': 9616, 'wal': 3530, 'ann': 2132, 'fib': 1541, 'polo': 2304}\n"
     ]
    },
    {
     "data": {
      "text/plain": [
       "('polo', 2304)"
      ]
     },
     "execution_count": 64,
     "metadata": {},
     "output_type": "execute_result"
    },
    {
     "name": "stdout",
     "output_type": "stream",
     "text": [
      "{'ann': 2132, 'fib': 1541}\n",
      "{'ann': 2132, 'fib': 1541}\n"
     ]
    },
    {
     "data": {
      "text/plain": [
       "3434"
      ]
     },
     "execution_count": 64,
     "metadata": {},
     "output_type": "execute_result"
    },
    {
     "data": {
      "text/plain": [
       "1541"
      ]
     },
     "execution_count": 64,
     "metadata": {},
     "output_type": "execute_result"
    },
    {
     "data": {
      "text/plain": [
       "3535"
      ]
     },
     "execution_count": 64,
     "metadata": {},
     "output_type": "execute_result"
    },
    {
     "data": {
      "text/plain": [
       "3636"
      ]
     },
     "execution_count": 64,
     "metadata": {},
     "output_type": "execute_result"
    },
    {
     "data": {
      "text/plain": [
       "{'ann': 2132, 'fib': 1541, 'wahaha': 3636}"
      ]
     },
     "execution_count": 64,
     "metadata": {},
     "output_type": "execute_result"
    },
    {
     "data": {
      "text/plain": [
       "{'ann': 2132, 'fib': 1541, 'wahaha': 3636, 'yao': 3283, 'zade': 9942}"
      ]
     },
     "execution_count": 64,
     "metadata": {},
     "output_type": "execute_result"
    },
    {
     "data": {
      "text/plain": [
       "('zade', 9942)"
      ]
     },
     "execution_count": 64,
     "metadata": {},
     "output_type": "execute_result"
    },
    {
     "data": {
      "text/plain": [
       "{'ann': 2132, 'fib': 1541, 'wahaha': 3636, 'yao': 3283}"
      ]
     },
     "execution_count": 64,
     "metadata": {},
     "output_type": "execute_result"
    },
    {
     "data": {
      "text/plain": [
       "3283"
      ]
     },
     "execution_count": 64,
     "metadata": {},
     "output_type": "execute_result"
    },
    {
     "data": {
      "text/plain": [
       "{'ann': 2132, 'fib': 1541, 'wahaha': 3636}"
      ]
     },
     "execution_count": 64,
     "metadata": {},
     "output_type": "execute_result"
    }
   ],
   "source": [
    "from IPython.core.interactiveshell import InteractiveShell\n",
    "InteractiveShell.ast_node_interactivity = \"all\"\n",
    "\n",
    "aDict = {'ann':2132,'fib':1541,'polo':2304}\n",
    "bDict = {'hua':9616,'wal':3530}\n",
    "\n",
    "cDict = aDict.copy()\n",
    "print(aDict)\n",
    "print(cDict)\n",
    "aDict.clear()\n",
    "print(aDict)\n",
    "bDict.update(cDict)\n",
    "print(bDict)\n",
    "cDict.popitem()\n",
    "print(cDict)\n",
    "p = cDict.pop('wahaha',3434)\n",
    "print(cDict)\n",
    "p\n",
    "cDict.get('fib')\n",
    "p = cDict.get('wahaha',3535)\n",
    "p\n",
    "cDict.setdefault('wahaha',3636)\n",
    "cDict\n",
    "cDict.update(yao=3283,zade=9942)\n",
    "cDict\n",
    "cDict.popitem()\n",
    "cDict\n",
    "cDict.pop('yao')\n",
    "cDict"
   ]
  },
  {
   "cell_type": "code",
   "execution_count": 15,
   "metadata": {},
   "outputs": [
    {
     "name": "stdout",
     "output_type": "stream",
     "text": [
      "first line\n",
      "second line\n",
      "third line\n",
      "first line\n",
      "\n",
      "second line\n",
      "\n",
      "first line\n",
      "\n",
      "first line\n",
      "second line\n"
     ]
    }
   ],
   "source": [
    "f = open('test.txt','w')\n",
    "f.write('first line\\nsecond line\\nthird line')\n",
    "f.close()\n",
    "f = open('test.txt','r')\n",
    "s = f.read()\n",
    "print(s)\n",
    "f.close()\n",
    "\n",
    "f = open('test.txt','r')\n",
    "s = f.readline()\n",
    "print(s)\n",
    "s = f.readline()\n",
    "print(s)\n",
    "f.close()\n",
    "\n",
    "f = open('test.txt','r')\n",
    "s = f.readline()\n",
    "print(s)\n",
    "f.close()\n",
    "\n",
    "f = open('test.txt','r')\n",
    "s = f.readline().strip()\n",
    "print(s)\n",
    "s = f.readline().strip()\n",
    "print(s)"
   ]
  },
  {
   "cell_type": "code",
   "execution_count": null,
   "metadata": {},
   "outputs": [],
   "source": []
  }
 ],
 "metadata": {
  "kernelspec": {
   "display_name": "Python 3",
   "language": "python",
   "name": "python3"
  },
  "language_info": {
   "codemirror_mode": {
    "name": "ipython",
    "version": 3
   },
   "file_extension": ".py",
   "mimetype": "text/x-python",
   "name": "python",
   "nbconvert_exporter": "python",
   "pygments_lexer": "ipython3",
   "version": "3.7.3"
  }
 },
 "nbformat": 4,
 "nbformat_minor": 2
}
