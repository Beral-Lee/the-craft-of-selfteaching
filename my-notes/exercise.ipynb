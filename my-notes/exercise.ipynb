{
 "cells": [
  {
   "cell_type": "code",
   "execution_count": 1,
   "metadata": {},
   "outputs": [
    {
     "data": {
      "text/plain": [
       "True"
      ]
     },
     "execution_count": 1,
     "metadata": {},
     "output_type": "execute_result"
    }
   ],
   "source": [
    "1 == 1"
   ]
  },
  {
   "cell_type": "code",
   "execution_count": 4,
   "metadata": {},
   "outputs": [
    {
     "data": {
      "text/plain": [
       "True"
      ]
     },
     "execution_count": 4,
     "metadata": {},
     "output_type": "execute_result"
    }
   ],
   "source": [
    "1 != 2"
   ]
  },
  {
   "cell_type": "code",
   "execution_count": 5,
   "metadata": {},
   "outputs": [
    {
     "data": {
      "text/plain": [
       "True"
      ]
     },
     "execution_count": 5,
     "metadata": {},
     "output_type": "execute_result"
    }
   ],
   "source": [
    "2 in (2,3)"
   ]
  },
  {
   "cell_type": "code",
   "execution_count": 7,
   "metadata": {},
   "outputs": [
    {
     "data": {
      "text/plain": [
       "False"
      ]
     },
     "execution_count": 7,
     "metadata": {},
     "output_type": "execute_result"
    }
   ],
   "source": [
    "2 in (3,5,)"
   ]
  },
  {
   "cell_type": "code",
   "execution_count": 21,
   "metadata": {},
   "outputs": [
    {
     "name": "stdout",
     "output_type": "stream",
     "text": [
      "62 is even\n"
     ]
    }
   ],
   "source": [
    "import random\n",
    "\n",
    "r = random.randrange(1,100)\n",
    "if r % 2 == 0:\n",
    "    print(r,'is even')\n",
    "else:\n",
    "    print(r,'is odd')"
   ]
  },
  {
   "cell_type": "code",
   "execution_count": 24,
   "metadata": {},
   "outputs": [
    {
     "name": "stdout",
     "output_type": "stream",
     "text": [
      "1\n",
      "3\n",
      "5\n",
      "7\n",
      "9\n"
     ]
    }
   ],
   "source": [
    "for i in range(10):\n",
    "    if i % 2 != 0:\n",
    "        print(i)"
   ]
  },
  {
   "cell_type": "markdown",
   "metadata": {},
   "source": [
    "#### 求100以内的质数"
   ]
  },
  {
   "cell_type": "code",
   "execution_count": 32,
   "metadata": {},
   "outputs": [
    {
     "name": "stdout",
     "output_type": "stream",
     "text": [
      "2 is zhishu\n",
      "3 is zhishu\n",
      "5 is zhishu\n",
      "7 is zhishu\n",
      "11 is zhishu\n",
      "13 is zhishu\n",
      "17 is zhishu\n",
      "19 is zhishu\n",
      "23 is zhishu\n",
      "29 is zhishu\n",
      "31 is zhishu\n",
      "37 is zhishu\n",
      "41 is zhishu\n",
      "43 is zhishu\n",
      "47 is zhishu\n",
      "53 is zhishu\n",
      "59 is zhishu\n",
      "61 is zhishu\n",
      "67 is zhishu\n",
      "71 is zhishu\n",
      "73 is zhishu\n",
      "79 is zhishu\n",
      "83 is zhishu\n",
      "89 is zhishu\n",
      "97 is zhishu\n"
     ]
    }
   ],
   "source": [
    "for i in range(2,101):\n",
    "    if i == 2:\n",
    "        print(i,'is zhishu')\n",
    "        continue\n",
    "    for j in range(2,i-1):\n",
    "        if i % j == 0:\n",
    "            break\n",
    "    else:\n",
    "        print(i,'is zhishu')"
   ]
  },
  {
   "cell_type": "code",
   "execution_count": 40,
   "metadata": {},
   "outputs": [
    {
     "name": "stdout",
     "output_type": "stream",
     "text": [
      "(True and False) yields: False\n",
      "(True and True) yields: True\n",
      "(False and True) yields: False\n",
      "(True or False) yields: True\n",
      "(False or True) yields: True\n",
      "(False or False) yields: False\n",
      "(not True) yields: False\n",
      "(not False) yields: True\n"
     ]
    }
   ],
   "source": [
    "print('(True and False) yields:',  True & False)\n",
    "print('(True and True) yields:',  True & True)\n",
    "print('(False and True) yields:',  False & True)\n",
    "print('(True or False) yields:',  True | False)\n",
    "print('(False or True) yields:',  False | True)\n",
    "print('(False or False) yields:',  False | False)\n",
    "print('(not True) yields:',  not True)\n",
    "print('(not False) yields:',  not False)"
   ]
  },
  {
   "cell_type": "markdown",
   "metadata": {},
   "source": [
    ">* 每次计算机随机生成一个 `2... 12` 之间的整数，用来模拟机器人投两个骰子的情况；\n",
    "* 机器人和用户的起始资金都是 10 个硬币\n",
    "* 要求用户猜大小：\n",
    "    * 用户输入 `b` 代表 “大”；\n",
    "    * 用户输入 `s` 代表 “小”；\n",
    "    * 用户输入 `q` 代表 “退出”；\n",
    "* 用户的输入和随机产生的数字比较有以下几种情况：\n",
    "    * 随机数小于 `7`，用户猜小，用户赢；\n",
    "    * 随机数小于 `7`，用户猜大，用户输；\n",
    "    * 随机数等于 `7`，用户无论猜大还是猜小，结局平，不输不赢；\n",
    "    * 随机数大于 `7`，用户猜小，用户输；\n",
    "    * 随机数大于 `7`，用户猜大，用户赢；\n",
    "* 游戏结束条件：\n",
    "    * 机器人和用户，若任意一方硬币数量为 `0`，则游戏结束；\n",
    "    * 用户输入了 `q` 主动终止游戏。\n"
   ]
  },
  {
   "cell_type": "code",
   "execution_count": 5,
   "metadata": {},
   "outputs": [
    {
     "name": "stdout",
     "output_type": "stream",
     "text": [
      "please chiose b(big)|s(small)|q(quit):b\n",
      "you lose,the numb is 3,you money down to2\n",
      "please chiose b(big)|s(small)|q(quit):b\n",
      "you win,the numb is 11,you money up to3\n",
      "please chiose b(big)|s(small)|q(quit):s\n",
      "you win,the numb is 5,you money up to4\n",
      "please chiose b(big)|s(small)|q(quit):s\n",
      "you lose,the numb is 9,you money down to3\n",
      "please chiose b(big)|s(small)|q(quit):s\n",
      "you win,the numb is 2,you money up to4\n",
      "please chiose b(big)|s(small)|q(quit):s\n",
      "the numb is 7,nothing happened\n",
      "please chiose b(big)|s(small)|q(quit):s\n",
      "you win,the numb is 6,you money up to5\n",
      "please chiose b(big)|s(small)|q(quit):s\n",
      "you lose,the numb is 10,you money down to4\n",
      "please chiose b(big)|s(small)|q(quit):s\n",
      "you win,the numb is 5,you money up to5\n",
      "please chiose b(big)|s(small)|q(quit):s\n",
      "you win,the numb is 3,you money up to6\n",
      "please chiose b(big)|s(small)|q(quit):s\n",
      "pc no money ,out\n"
     ]
    }
   ],
   "source": [
    "import random\n",
    "\n",
    "pc_m,pp_m = 3,3\n",
    "\n",
    "while True:\n",
    "    req = input('please chiose b(big)|s(small)|q(quit):')\n",
    "    pc = random.randint(2,12)\n",
    "    if pc_m == 0:\n",
    "        print('pc no money ,out')\n",
    "        break\n",
    "    elif pp_m == 0:\n",
    "        print('you have no money,out')\n",
    "        break\n",
    "    elif req == 'b':\n",
    "        if pc > 7:\n",
    "            pp_m += 1\n",
    "            pc_m -= 1\n",
    "            print(f'you win,the numb is {pc},you money up to{pp_m}')\n",
    "        elif pc == 7:\n",
    "            print(f'the numb is {pc},nothing happened')\n",
    "        else:\n",
    "            pp_m -= 1\n",
    "            pc_m += 1\n",
    "            print(f'you lose,the numb is {pc},you money down to{pp_m}')\n",
    "    elif req == 's':\n",
    "        if pc < 7:\n",
    "            pp_m += 1\n",
    "            pc_m -= 1\n",
    "            print(f'you win,the numb is {pc},you money up to{pp_m}')\n",
    "        elif pc == 7:\n",
    "            print(f'the numb is {pc},nothing happened')\n",
    "        else:\n",
    "            pp_m -= 1\n",
    "            pc_m += 1\n",
    "            print(f'you lose,the numb is {pc},you money down to{pp_m}')\n",
    "            \n",
    "    else:\n",
    "        print('you quit')\n",
    "        break"
   ]
  },
  {
   "cell_type": "code",
   "execution_count": null,
   "metadata": {},
   "outputs": [],
   "source": []
  },
  {
   "cell_type": "code",
   "execution_count": null,
   "metadata": {},
   "outputs": [],
   "source": []
  }
 ],
 "metadata": {
  "kernelspec": {
   "display_name": "Python 3",
   "language": "python",
   "name": "python3"
  },
  "language_info": {
   "codemirror_mode": {
    "name": "ipython",
    "version": 3
   },
   "file_extension": ".py",
   "mimetype": "text/x-python",
   "name": "python",
   "nbconvert_exporter": "python",
   "pygments_lexer": "ipython3",
   "version": "3.7.3"
  }
 },
 "nbformat": 4,
 "nbformat_minor": 2
}
