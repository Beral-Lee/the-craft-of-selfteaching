{
 "cells": [
  {
   "cell_type": "code",
   "execution_count": 1,
   "metadata": {},
   "outputs": [
    {
     "data": {
      "text/plain": [
       "True"
      ]
     },
     "execution_count": 1,
     "metadata": {},
     "output_type": "execute_result"
    }
   ],
   "source": [
    "1 == 1"
   ]
  },
  {
   "cell_type": "code",
   "execution_count": 4,
   "metadata": {},
   "outputs": [
    {
     "data": {
      "text/plain": [
       "True"
      ]
     },
     "execution_count": 4,
     "metadata": {},
     "output_type": "execute_result"
    }
   ],
   "source": [
    "1 != 2"
   ]
  },
  {
   "cell_type": "code",
   "execution_count": 5,
   "metadata": {},
   "outputs": [
    {
     "data": {
      "text/plain": [
       "True"
      ]
     },
     "execution_count": 5,
     "metadata": {},
     "output_type": "execute_result"
    }
   ],
   "source": [
    "2 in (2,3)"
   ]
  },
  {
   "cell_type": "code",
   "execution_count": 7,
   "metadata": {},
   "outputs": [
    {
     "data": {
      "text/plain": [
       "False"
      ]
     },
     "execution_count": 7,
     "metadata": {},
     "output_type": "execute_result"
    }
   ],
   "source": [
    "2 in (3,5,)"
   ]
  },
  {
   "cell_type": "code",
   "execution_count": 21,
   "metadata": {},
   "outputs": [
    {
     "name": "stdout",
     "output_type": "stream",
     "text": [
      "62 is even\n"
     ]
    }
   ],
   "source": [
    "import random\n",
    "\n",
    "r = random.randrange(1,100)\n",
    "if r % 2 == 0:\n",
    "    print(r,'is even')\n",
    "else:\n",
    "    print(r,'is odd')"
   ]
  },
  {
   "cell_type": "code",
   "execution_count": 24,
   "metadata": {},
   "outputs": [
    {
     "name": "stdout",
     "output_type": "stream",
     "text": [
      "1\n",
      "3\n",
      "5\n",
      "7\n",
      "9\n"
     ]
    }
   ],
   "source": [
    "for i in range(10):\n",
    "    if i % 2 != 0:\n",
    "        print(i)"
   ]
  },
  {
   "cell_type": "markdown",
   "metadata": {},
   "source": [
    "#### 求100以内的质数"
   ]
  },
  {
   "cell_type": "code",
   "execution_count": 1,
   "metadata": {},
   "outputs": [
    {
     "name": "stdout",
     "output_type": "stream",
     "text": [
      "2 is zhishu\n",
      "3 is zhishu\n",
      "5 is zhishu\n",
      "7 is zhishu\n"
     ]
    }
   ],
   "source": [
    "for i in range(2,10):\n",
    "    if i == 2:\n",
    "        print(i,'is zhishu')\n",
    "        continue\n",
    "    for j in range(2,i-1):\n",
    "        if i % j == 0:\n",
    "            break\n",
    "    else:\n",
    "        print(i,'is zhishu')"
   ]
  },
  {
   "cell_type": "code",
   "execution_count": 40,
   "metadata": {},
   "outputs": [
    {
     "name": "stdout",
     "output_type": "stream",
     "text": [
      "(True and False) yields: False\n",
      "(True and True) yields: True\n",
      "(False and True) yields: False\n",
      "(True or False) yields: True\n",
      "(False or True) yields: True\n",
      "(False or False) yields: False\n",
      "(not True) yields: False\n",
      "(not False) yields: True\n"
     ]
    }
   ],
   "source": [
    "print('(True and False) yields:',  True & False)\n",
    "print('(True and True) yields:',  True & True)\n",
    "print('(False and True) yields:',  False & True)\n",
    "print('(True or False) yields:',  True | False)\n",
    "print('(False or True) yields:',  False | True)\n",
    "print('(False or False) yields:',  False | False)\n",
    "print('(not True) yields:',  not True)\n",
    "print('(not False) yields:',  not False)"
   ]
  },
  {
   "cell_type": "markdown",
   "metadata": {},
   "source": [
    ">* 每次计算机随机生成一个 `2... 12` 之间的整数，用来模拟机器人投两个骰子的情况；\n",
    "* 机器人和用户的起始资金都是 10 个硬币\n",
    "* 要求用户猜大小：\n",
    "    * 用户输入 `b` 代表 “大”；\n",
    "    * 用户输入 `s` 代表 “小”；\n",
    "    * 用户输入 `q` 代表 “退出”；\n",
    "* 用户的输入和随机产生的数字比较有以下几种情况：\n",
    "    * 随机数小于 `7`，用户猜小，用户赢；\n",
    "    * 随机数小于 `7`，用户猜大，用户输；\n",
    "    * 随机数等于 `7`，用户无论猜大还是猜小，结局平，不输不赢；\n",
    "    * 随机数大于 `7`，用户猜小，用户输；\n",
    "    * 随机数大于 `7`，用户猜大，用户赢；\n",
    "* 游戏结束条件：\n",
    "    * 机器人和用户，若任意一方硬币数量为 `0`，则游戏结束；\n",
    "    * 用户输入了 `q` 主动终止游戏。\n"
   ]
  },
  {
   "cell_type": "code",
   "execution_count": 5,
   "metadata": {},
   "outputs": [
    {
     "name": "stdout",
     "output_type": "stream",
     "text": [
      "please chiose b(big)|s(small)|q(quit):b\n",
      "you lose,the numb is 3,you money down to2\n",
      "please chiose b(big)|s(small)|q(quit):b\n",
      "you win,the numb is 11,you money up to3\n",
      "please chiose b(big)|s(small)|q(quit):s\n",
      "you win,the numb is 5,you money up to4\n",
      "please chiose b(big)|s(small)|q(quit):s\n",
      "you lose,the numb is 9,you money down to3\n",
      "please chiose b(big)|s(small)|q(quit):s\n",
      "you win,the numb is 2,you money up to4\n",
      "please chiose b(big)|s(small)|q(quit):s\n",
      "the numb is 7,nothing happened\n",
      "please chiose b(big)|s(small)|q(quit):s\n",
      "you win,the numb is 6,you money up to5\n",
      "please chiose b(big)|s(small)|q(quit):s\n",
      "you lose,the numb is 10,you money down to4\n",
      "please chiose b(big)|s(small)|q(quit):s\n",
      "you win,the numb is 5,you money up to5\n",
      "please chiose b(big)|s(small)|q(quit):s\n",
      "you win,the numb is 3,you money up to6\n",
      "please chiose b(big)|s(small)|q(quit):s\n",
      "pc no money ,out\n"
     ]
    }
   ],
   "source": [
    "import random\n",
    "\n",
    "pc_m,pp_m = 3,3\n",
    "\n",
    "while True:\n",
    "    req = input('please chiose b(big)|s(small)|q(quit):')\n",
    "    pc = random.randint(2,12)\n",
    "    if pc_m == 0:\n",
    "        print('pc no money ,out')\n",
    "        break\n",
    "    elif pp_m == 0:\n",
    "        print('you have no money,out')\n",
    "        break\n",
    "    elif req == 'b':\n",
    "        if pc > 7:\n",
    "            pp_m += 1\n",
    "            pc_m -= 1\n",
    "            print(f'you win,the numb is {pc},you money up to{pp_m}')\n",
    "        elif pc == 7:\n",
    "            print(f'the numb is {pc},nothing happened')\n",
    "        else:\n",
    "            pp_m -= 1\n",
    "            pc_m += 1\n",
    "            print(f'you lose,the numb is {pc},you money down to{pp_m}')\n",
    "    elif req == 's':\n",
    "        if pc < 7:\n",
    "            pp_m += 1\n",
    "            pc_m -= 1\n",
    "            print(f'you win,the numb is {pc},you money up to{pp_m}')\n",
    "        elif pc == 7:\n",
    "            print(f'the numb is {pc},nothing happened')\n",
    "        else:\n",
    "            pp_m -= 1\n",
    "            pc_m += 1\n",
    "            print(f'you lose,the numb is {pc},you money down to{pp_m}')\n",
    "            \n",
    "    else:\n",
    "        print('you quit')\n",
    "        break"
   ]
  },
  {
   "cell_type": "code",
   "execution_count": 2,
   "metadata": {},
   "outputs": [
    {
     "data": {
      "text/plain": [
       "'ana is 12 years old'"
      ]
     },
     "execution_count": 2,
     "metadata": {},
     "output_type": "execute_result"
    }
   ],
   "source": [
    "a = 'ana'\n",
    "b = 12\n",
    "f'{a} is {b} years old'"
   ]
  },
  {
   "cell_type": "code",
   "execution_count": 5,
   "metadata": {},
   "outputs": [
    {
     "name": "stdout",
     "output_type": "stream",
     "text": [
      "hello*world\r",
      "hello world 2\n"
     ]
    }
   ],
   "source": [
    "import sys\n",
    "print('hello','world',sep='*',end='\\r')\n",
    "print('hello','world','2',sep=' ',end='\\n')"
   ]
  },
  {
   "cell_type": "code",
   "execution_count": 15,
   "metadata": {},
   "outputs": [
    {
     "name": "stdout",
     "output_type": "stream",
     "text": [
      "1\n",
      "2\n",
      "None None\n"
     ]
    }
   ],
   "source": [
    "print(print(1),print('2'))"
   ]
  },
  {
   "cell_type": "code",
   "execution_count": 6,
   "metadata": {},
   "outputs": [
    {
     "name": "stdout",
     "output_type": "stream",
     "text": [
      "0 p\n",
      "1 y\n",
      "2 t\n",
      "3 h\n",
      "4 o\n",
      "5 n\n",
      "yh\n"
     ]
    }
   ],
   "source": [
    "s = 'python'\n",
    "\n",
    "for i in s:\n",
    "    print(s.index(i),i)\n",
    "\n",
    "print(s[1:4:2])"
   ]
  },
  {
   "cell_type": "code",
   "execution_count": 15,
   "metadata": {},
   "outputs": [
    {
     "name": "stdout",
     "output_type": "stream",
     "text": [
      "110\n",
      "10\n",
      "9\n",
      "D\n",
      "input 3.143.14\n",
      "3.143.143.14\n",
      "9.42\n"
     ]
    }
   ],
   "source": [
    "print(ord('n'))\n",
    "print(ord('\\n'))\n",
    "print(ord('\\t'))\n",
    "print(chr(68))\n",
    "p = input('input 3.14')\n",
    "print(p * 3)\n",
    "print(float(p) * 3)"
   ]
  },
  {
   "cell_type": "code",
   "execution_count": 11,
   "metadata": {},
   "outputs": [
    {
     "data": {
      "text/plain": [
       "'tHIS IS NOT IMPORTENT'"
      ]
     },
     "execution_count": 11,
     "metadata": {},
     "output_type": "execute_result"
    }
   ],
   "source": [
    "str = 'this is not importent'\n",
    "#('this is not importent').title()\n",
    "#'this is not importent'.upper()\n",
    "#'THIS IS NOT IMPORTENT'.lower()\n",
    "str.capitalize().swapcase()"
   ]
  },
  {
   "cell_type": "code",
   "execution_count": 12,
   "metadata": {},
   "outputs": [
    {
     "data": {
      "text/plain": [
       "'简单优于复杂。'"
      ]
     },
     "execution_count": 12,
     "metadata": {},
     "output_type": "execute_result"
    }
   ],
   "source": [
    "\n",
    "b'\\xe7\\xae\\x80\\xe5\\x8d\\x95\\xe4\\xbc\\x98\\xe4\\xba\\x8e\\xe5\\xa4\\x8d\\xe6\\x9d\\x82\\xe3\\x80\\x82'.decode()"
   ]
  },
  {
   "cell_type": "code",
   "execution_count": 13,
   "metadata": {},
   "outputs": [
    {
     "data": {
      "text/plain": [
       "b'\\xe7\\xae\\x80\\xe5\\x8d\\x95\\xe4\\xbc\\x98\\xe4\\xba\\x8e\\xe5\\xa4\\x8d\\xe6\\x9d\\x82\\xe3\\x80\\x82'"
      ]
     },
     "execution_count": 13,
     "metadata": {},
     "output_type": "execute_result"
    }
   ],
   "source": [
    "'简单优于复杂。'.encode()"
   ]
  },
  {
   "cell_type": "code",
   "execution_count": 38,
   "metadata": {},
   "outputs": [
    {
     "data": {
      "text/plain": [
       "4"
      ]
     },
     "execution_count": 38,
     "metadata": {},
     "output_type": "execute_result"
    },
    {
     "data": {
      "text/plain": [
       "2"
      ]
     },
     "execution_count": 38,
     "metadata": {},
     "output_type": "execute_result"
    },
    {
     "data": {
      "text/plain": [
       "7"
      ]
     },
     "execution_count": 38,
     "metadata": {},
     "output_type": "execute_result"
    },
    {
     "data": {
      "text/plain": [
       "24"
      ]
     },
     "execution_count": 38,
     "metadata": {},
     "output_type": "execute_result"
    },
    {
     "data": {
      "text/plain": [
       "56"
      ]
     },
     "execution_count": 38,
     "metadata": {},
     "output_type": "execute_result"
    },
    {
     "name": "stdout",
     "output_type": "stream",
     "text": [
      "True\n"
     ]
    }
   ],
   "source": [
    "from IPython.core.interactiveshell import InteractiveShell\n",
    "InteractiveShell.ast_node_interactivity = \"all\"\n",
    "\n",
    "s = \"\"\"Simple is better than complex.\n",
    "Complex is better than complicated.\"\"\"\n",
    "s.count('mp',1,-1)\n",
    "s.count('s')\n",
    "s.lower().count('t')\n",
    "s.find('mpl',3)\n",
    "s.rfind('mpl')\n",
    "print('mpl' in s)"
   ]
  },
  {
   "cell_type": "code",
   "execution_count": 8,
   "metadata": {},
   "outputs": [
    {
     "name": "stdout",
     "output_type": "stream",
     "text": [
      "Si[ ]e is better than co[ ]ex.\n",
      "Complex is better than complicated.\n",
      "Simple is better than complex.\tComplex is better than complicated.\n"
     ]
    }
   ],
   "source": [
    "s = \"\"\"Simple is better than complex.\n",
    "Complex is better than complicated.\"\"\"\n",
    "\n",
    "print(s.replace('mpl','[ ]',2))\n",
    "print(s.replace('\\n','\\t'))"
   ]
  },
  {
   "cell_type": "code",
   "execution_count": 38,
   "metadata": {},
   "outputs": [
    {
     "data": {
      "text/plain": [
       "'mple is better than comp'"
      ]
     },
     "execution_count": 38,
     "metadata": {},
     "output_type": "execute_result"
    }
   ],
   "source": [
    "s = 'Simple is better than complex'\n",
    "s.strip('ixS.xe.l')"
   ]
  },
  {
   "cell_type": "code",
   "execution_count": 40,
   "metadata": {},
   "outputs": [
    {
     "data": {
      "text/plain": [
       "['Mike', '22,San Francisco']"
      ]
     },
     "execution_count": 40,
     "metadata": {},
     "output_type": "execute_result"
    }
   ],
   "source": [
    "s = \"\"\"Name,Age,Location\n",
    "John,18,New York\n",
    "Mike,22,San Francisco\n",
    "Janny,25,Miami\n",
    "Sunny,21,Shanghai\"\"\"\n",
    "\n",
    "r = s.splitlines()[2] #以行为单位将对象拆分为list，取出索引值为2的那一行\n",
    "r.split(',', maxsplit=1)"
   ]
  },
  {
   "cell_type": "code",
   "execution_count": 45,
   "metadata": {},
   "outputs": [
    {
     "data": {
      "text/plain": [
       "'==============|==============='"
      ]
     },
     "execution_count": 45,
     "metadata": {},
     "output_type": "execute_result"
    }
   ],
   "source": [
    "s = '|'\n",
    "t = ['P', 'y', 't', 'h', 'o', 'n']\n",
    "s.join(t)\n",
    "s.center(30,'=')"
   ]
  },
  {
   "cell_type": "code",
   "execution_count": 47,
   "metadata": {},
   "outputs": [
    {
     "data": {
      "text/plain": [
       "'25 is John years old.'"
      ]
     },
     "execution_count": 47,
     "metadata": {},
     "output_type": "execute_result"
    }
   ],
   "source": [
    "name = 'John'\n",
    "age = 25\n",
    "'{1} is {0} years old.'.format(name, age)"
   ]
  },
  {
   "cell_type": "code",
   "execution_count": null,
   "metadata": {},
   "outputs": [],
   "source": []
  }
 ],
 "metadata": {
  "kernelspec": {
   "display_name": "Python 3",
   "language": "python",
   "name": "python3"
  },
  "language_info": {
   "codemirror_mode": {
    "name": "ipython",
    "version": 3
   },
   "file_extension": ".py",
   "mimetype": "text/x-python",
   "name": "python",
   "nbconvert_exporter": "python",
   "pygments_lexer": "ipython3",
   "version": "3.7.3"
  }
 },
 "nbformat": 4,
 "nbformat_minor": 2
}
