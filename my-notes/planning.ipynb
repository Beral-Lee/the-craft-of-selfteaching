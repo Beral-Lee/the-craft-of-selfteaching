{
 "cells": [
  {
   "cell_type": "code",
   "execution_count": 2,
   "metadata": {},
   "outputs": [
    {
     "name": "stdout",
     "output_type": "stream",
     "text": [
      "72\n",
      "77\n"
     ]
    }
   ],
   "source": [
    "import datetime\n",
    "\n",
    "start = datetime.date(2019,8,28)\n",
    "today = datetime.date.today()\n",
    "deadline = datetime.date(2019,11,8)\n",
    "have = (today - start).days\n",
    "total = (deadline - start).days\n",
    "print(total)\n",
    "print(have)"
   ]
  },
  {
   "cell_type": "code",
   "execution_count": 2,
   "metadata": {},
   "outputs": [
    {
     "name": "stdout",
     "output_type": "stream",
     "text": [
      "-6\n"
     ]
    }
   ],
   "source": [
    "import datetime\n",
    "\n",
    "today = datetime.date.today()\n",
    "deadline = datetime.date(2019,11,8)\n",
    "residue = (deadline - today).days\n",
    "print(residue)"
   ]
  },
  {
   "cell_type": "code",
   "execution_count": 1,
   "metadata": {},
   "outputs": [
    {
     "name": "stdout",
     "output_type": "stream",
     "text": [
      "ZX progress:43\n",
      "93.48%\n"
     ]
    }
   ],
   "source": [
    "zx_total = 46\n",
    "zx_today = float(input('ZX progress:'))\n",
    "zx_progress = zx_today/zx_total\n",
    "#print(f'{zx_progress}.02')\n",
    "print('{:.2f}%'.format(zx_progress*100))\n"
   ]
  },
  {
   "cell_type": "code",
   "execution_count": 1,
   "metadata": {},
   "outputs": [
    {
     "name": "stdout",
     "output_type": "stream",
     "text": [
      "MS progress:148\n",
      "44.85%\n"
     ]
    }
   ],
   "source": [
    "ms_total = 330\n",
    "ms_today = float(input('MS progress:'))\n",
    "ms_progress = ms_today/ms_total\n",
    "\n",
    "print('{:.2f}%'.format(ms_progress*100))"
   ]
  },
  {
   "cell_type": "code",
   "execution_count": null,
   "metadata": {},
   "outputs": [],
   "source": []
  }
 ],
 "metadata": {
  "kernelspec": {
   "display_name": "Python 3",
   "language": "python",
   "name": "python3"
  },
  "language_info": {
   "codemirror_mode": {
    "name": "ipython",
    "version": 3
   },
   "file_extension": ".py",
   "mimetype": "text/x-python",
   "name": "python",
   "nbconvert_exporter": "python",
   "pygments_lexer": "ipython3",
   "version": "3.7.3"
  }
 },
 "nbformat": 4,
 "nbformat_minor": 2
}
